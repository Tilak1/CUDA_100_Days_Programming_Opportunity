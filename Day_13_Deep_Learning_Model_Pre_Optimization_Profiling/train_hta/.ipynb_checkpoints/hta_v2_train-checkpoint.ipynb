{
 "cells": [
  {
   "cell_type": "code",
   "execution_count": 2,
   "id": "27ba6e29",
   "metadata": {},
   "outputs": [
    {
     "name": "stderr",
     "output_type": "stream",
     "text": [
      "C:\\Tilak\\CUDA\\cuda_100_days_opportuniyt\\Day_13_Deep_Learning_Model_Pre_Optimization_Profiling\train_hta is not a valid path\n",
      "There is no item in the rank to trace file map.\n",
      "The list of ranks to be parsed is empty.\n",
      "leaving parse_traces duration=0.00 seconds\n"
     ]
    },
    {
     "ename": "ValueError",
     "evalue": "min() arg is an empty sequence",
     "output_type": "error",
     "traceback": [
      "\u001b[31m---------------------------------------------------------------------------\u001b[39m",
      "\u001b[31mValueError\u001b[39m                                Traceback (most recent call last)",
      "\u001b[36mCell\u001b[39m\u001b[36m \u001b[39m\u001b[32mIn[2]\u001b[39m\u001b[32m, line 5\u001b[39m\n\u001b[32m      1\u001b[39m \u001b[38;5;28;01mfrom\u001b[39;00m\u001b[38;5;250m \u001b[39m\u001b[34;01mhta\u001b[39;00m\u001b[34;01m.\u001b[39;00m\u001b[34;01mtrace_analysis\u001b[39;00m\u001b[38;5;250m \u001b[39m\u001b[38;5;28;01mimport\u001b[39;00m TraceAnalysis\n\u001b[32m      3\u001b[39m \u001b[38;5;66;03m# Analyze the new traces\u001b[39;00m\n\u001b[32m      4\u001b[39m \u001b[38;5;66;03m#analyzer = TraceAnalysis(trace_dir=\"/home/tilak/Alinet_optim/inference-optimization-blog-post/part-3\")\u001b[39;00m\n\u001b[32m----> \u001b[39m\u001b[32m5\u001b[39m analyzer = \u001b[43mTraceAnalysis\u001b[49m\u001b[43m(\u001b[49m\u001b[43mtrace_dir\u001b[49m\u001b[43m=\u001b[49m\u001b[33;43m\"\u001b[39;49m\u001b[33;43mC:\u001b[39;49m\u001b[33;43m\\\u001b[39;49m\u001b[33;43mTilak\u001b[39;49m\u001b[33;43m\\\u001b[39;49m\u001b[33;43mCUDA\u001b[39;49m\u001b[33;43m\\\u001b[39;49m\u001b[33;43mcuda_100_days_opportuniyt\u001b[39;49m\u001b[33;43m\\\u001b[39;49m\u001b[33;43mDay_13_Deep_Learning_Model_Pre_Optimization_Profiling\u001b[39;49m\u001b[38;5;130;43;01m\\t\u001b[39;49;00m\u001b[33;43mrain_hta\u001b[39;49m\u001b[33;43m\"\u001b[39;49m\u001b[43m)\u001b[49m\n\u001b[32m      7\u001b[39m \u001b[38;5;66;03m#C:\\Tilak\\CUDA\\cuda_100_days_opportuniyt\\Day_13_Deep_Learning_Model_Pre_Optimization_Profiling\\train_hta\u001b[39;00m\n\u001b[32m      8\u001b[39m \n\u001b[32m      9\u001b[39m \u001b[38;5;66;03m# Get detailed breakdown\u001b[39;00m\n\u001b[32m     10\u001b[39m temporal_breakdown = analyzer.get_temporal_breakdown()\n",
      "\u001b[36mFile \u001b[39m\u001b[32mC:\\Tilak\\CUDA\\venv_webpdf\\Lib\\site-packages\\hta\\trace_analysis.py:38\u001b[39m, in \u001b[36mTraceAnalysis.__init__\u001b[39m\u001b[34m(self, trace_files, trace_dir, include_last_profiler_step)\u001b[39m\n\u001b[32m     31\u001b[39m \u001b[38;5;28;01mdef\u001b[39;00m\u001b[38;5;250m \u001b[39m\u001b[34m__init__\u001b[39m(\n\u001b[32m     32\u001b[39m     \u001b[38;5;28mself\u001b[39m,\n\u001b[32m     33\u001b[39m     trace_files: Optional[Dict[\u001b[38;5;28mint\u001b[39m, \u001b[38;5;28mstr\u001b[39m]] = \u001b[38;5;28;01mNone\u001b[39;00m,\n\u001b[32m     34\u001b[39m     trace_dir: \u001b[38;5;28mstr\u001b[39m = DEFAULT_TRACE_DIR,\n\u001b[32m     35\u001b[39m     include_last_profiler_step: Optional[\u001b[38;5;28mbool\u001b[39m] = \u001b[38;5;28;01mFalse\u001b[39;00m,\n\u001b[32m     36\u001b[39m ):\n\u001b[32m     37\u001b[39m     \u001b[38;5;28mself\u001b[39m.t = Trace(trace_files, trace_dir)\n\u001b[32m---> \u001b[39m\u001b[32m38\u001b[39m     \u001b[38;5;28;43mself\u001b[39;49m\u001b[43m.\u001b[49m\u001b[43mt\u001b[49m\u001b[43m.\u001b[49m\u001b[43mload_traces\u001b[49m\u001b[43m(\u001b[49m\u001b[43minclude_last_profiler_step\u001b[49m\u001b[43m)\u001b[49m\n\u001b[32m     39\u001b[39m     \u001b[38;5;28;01massert\u001b[39;00m \u001b[38;5;28mself\u001b[39m.t.is_parsed \u001b[38;5;129;01mis\u001b[39;00m \u001b[38;5;28;01mTrue\u001b[39;00m\n",
      "\u001b[36mFile \u001b[39m\u001b[32mC:\\Tilak\\CUDA\\venv_webpdf\\Lib\\site-packages\\hta\\common\\trace.py:418\u001b[39m, in \u001b[36mTrace.load_traces\u001b[39m\u001b[34m(self, include_last_profiler_step, use_multiprocessing, use_memory_profiling)\u001b[39m\n\u001b[32m    413\u001b[39m     \u001b[38;5;28;01mreturn\u001b[39;00m\n\u001b[32m    414\u001b[39m \u001b[38;5;28mself\u001b[39m.parse_traces(\n\u001b[32m    415\u001b[39m     use_multiprocessing=use_multiprocessing,\n\u001b[32m    416\u001b[39m     use_memory_profiling=use_memory_profiling,\n\u001b[32m    417\u001b[39m )\n\u001b[32m--> \u001b[39m\u001b[32m418\u001b[39m \u001b[38;5;28;43mself\u001b[39;49m\u001b[43m.\u001b[49m\u001b[43malign_and_filter_trace\u001b[49m\u001b[43m(\u001b[49m\u001b[43minclude_last_profiler_step\u001b[49m\u001b[43m)\u001b[49m\n\u001b[32m    419\u001b[39m \u001b[38;5;28;01mfor\u001b[39;00m rank, df \u001b[38;5;129;01min\u001b[39;00m \u001b[38;5;28mself\u001b[39m.traces.items():\n\u001b[32m    420\u001b[39m     df = \u001b[38;5;28mself\u001b[39m.traces[rank].set_index(\u001b[33m\"\u001b[39m\u001b[33mindex\u001b[39m\u001b[33m\"\u001b[39m, drop=\u001b[38;5;28;01mFalse\u001b[39;00m)\n",
      "\u001b[36mFile \u001b[39m\u001b[32mC:\\Tilak\\CUDA\\venv_webpdf\\Lib\\site-packages\\hta\\common\\trace.py:564\u001b[39m, in \u001b[36mTrace.align_and_filter_trace\u001b[39m\u001b[34m(self, include_last_profiler_step)\u001b[39m\n\u001b[32m    558\u001b[39m \u001b[38;5;28;01mdef\u001b[39;00m\u001b[38;5;250m \u001b[39m\u001b[34malign_and_filter_trace\u001b[39m(\n\u001b[32m    559\u001b[39m     \u001b[38;5;28mself\u001b[39m, include_last_profiler_step: Optional[\u001b[38;5;28mbool\u001b[39m] = \u001b[38;5;28;01mFalse\u001b[39;00m\n\u001b[32m    560\u001b[39m ) -> \u001b[38;5;28;01mNone\u001b[39;00m:\n\u001b[32m    561\u001b[39m \u001b[38;5;250m    \u001b[39m\u001b[33;03m\"\"\"\u001b[39;00m\n\u001b[32m    562\u001b[39m \u001b[33;03m    Align the starting time across multiple ranks and filter events that belong to incomplete iterations.\u001b[39;00m\n\u001b[32m    563\u001b[39m \u001b[33;03m    \"\"\"\u001b[39;00m\n\u001b[32m--> \u001b[39m\u001b[32m564\u001b[39m     \u001b[38;5;28;43mself\u001b[39;49m\u001b[43m.\u001b[49m\u001b[43m_align_all_ranks\u001b[49m\u001b[43m(\u001b[49m\u001b[43m)\u001b[49m\n\u001b[32m    565\u001b[39m     \u001b[38;5;28mself\u001b[39m._filter_irrelevant_gpu_kernels(include_last_profiler_step)\n",
      "\u001b[36mFile \u001b[39m\u001b[32mC:\\Tilak\\CUDA\\venv_webpdf\\Lib\\site-packages\\hta\\common\\trace.py:700\u001b[39m, in \u001b[36mTrace._align_all_ranks\u001b[39m\u001b[34m(self)\u001b[39m\n\u001b[32m    696\u001b[39m \u001b[38;5;28;01mdef\u001b[39;00m\u001b[38;5;250m \u001b[39m\u001b[34m_align_all_ranks\u001b[39m(\u001b[38;5;28mself\u001b[39m) -> \u001b[38;5;28;01mNone\u001b[39;00m:\n\u001b[32m    697\u001b[39m \u001b[38;5;250m    \u001b[39m\u001b[33;03m\"\"\"\u001b[39;00m\n\u001b[32m    698\u001b[39m \u001b[33;03m    Align dataframes for all ranks such that the earliest event starts at time 0.\u001b[39;00m\n\u001b[32m    699\u001b[39m \u001b[33;03m    \"\"\"\u001b[39;00m\n\u001b[32m--> \u001b[39m\u001b[32m700\u001b[39m     \u001b[38;5;28mself\u001b[39m.min_ts = \u001b[38;5;28;43mmin\u001b[39;49m\u001b[43m(\u001b[49m\u001b[43mtrace_df\u001b[49m\u001b[43m[\u001b[49m\u001b[33;43m\"\u001b[39;49m\u001b[33;43mts\u001b[39;49m\u001b[33;43m\"\u001b[39;49m\u001b[43m]\u001b[49m\u001b[43m.\u001b[49m\u001b[43mmin\u001b[49m\u001b[43m(\u001b[49m\u001b[43m)\u001b[49m\u001b[43m \u001b[49m\u001b[38;5;28;43;01mfor\u001b[39;49;00m\u001b[43m \u001b[49m\u001b[43mtrace_df\u001b[49m\u001b[43m \u001b[49m\u001b[38;5;129;43;01min\u001b[39;49;00m\u001b[43m \u001b[49m\u001b[38;5;28;43mself\u001b[39;49m\u001b[43m.\u001b[49m\u001b[43mtraces\u001b[49m\u001b[43m.\u001b[49m\u001b[43mvalues\u001b[49m\u001b[43m(\u001b[49m\u001b[43m)\u001b[49m\u001b[43m)\u001b[49m\n\u001b[32m    701\u001b[39m     \u001b[38;5;28;01mfor\u001b[39;00m rank, trace_df \u001b[38;5;129;01min\u001b[39;00m \u001b[38;5;28mself\u001b[39m.traces.items():\n\u001b[32m    702\u001b[39m         trace_df[\u001b[33m\"\u001b[39m\u001b[33mts\u001b[39m\u001b[33m\"\u001b[39m] = trace_df[\u001b[33m\"\u001b[39m\u001b[33mts\u001b[39m\u001b[33m\"\u001b[39m] - \u001b[38;5;28mself\u001b[39m.min_ts\n",
      "\u001b[31mValueError\u001b[39m: min() arg is an empty sequence"
     ]
    }
   ],
   "source": [
    "from hta.trace_analysis import TraceAnalysis\n",
    "\n",
    "# Analyze the new traces\n",
    "#analyzer = TraceAnalysis(trace_dir=\"/home/tilak/Alinet_optim/inference-optimization-blog-post/part-3\")\n",
    "#analyzer = TraceAnalysis(trace_dir=\"C:\\Tilak\\CUDA\\cuda_100_days_opportuniyt\\Day_13_Deep_Learning_Model_Pre_Optimization_Profiling\\train_hta\")\n",
    "analyzer = TraceAnalysis(trace_dir=\"C:/Tilak/CUDA/cuda_100_days_opportuniyt/Day_13_Deep_Learning_Model_Pre_Optimization_Profiling/train_hta\")\n",
    "\n",
    "#C:\\Tilak\\CUDA\\cuda_100_days_opportuniyt\\Day_13_Deep_Learning_Model_Pre_Optimization_Profiling\\train_hta\n",
    "\n",
    "# Get detailed breakdown\n",
    "temporal_breakdown = analyzer.get_temporal_breakdown()\n",
    "kernel_breakdown = analyzer.get_gpu_kernel_breakdown()\n",
    "#kernel_breakdown_df = analyzer.get_gpu_kernel_breakdown()\n",
    "idle_time = analyzer.get_idle_time_breakdown()\n",
    "\n",
    "# Print results\n",
    "print(temporal_breakdown)\n",
    "print(kernel_breakdown)"
   ]
  },
  {
   "cell_type": "code",
   "execution_count": null,
   "id": "ec92aa5c-eac6-4fbe-b898-ff62806ea2b2",
   "metadata": {},
   "outputs": [],
   "source": []
  }
 ],
 "metadata": {
  "kernelspec": {
   "display_name": "Python 3 (ipykernel)",
   "language": "python",
   "name": "python3"
  },
  "language_info": {
   "codemirror_mode": {
    "name": "ipython",
    "version": 3
   },
   "file_extension": ".py",
   "mimetype": "text/x-python",
   "name": "python",
   "nbconvert_exporter": "python",
   "pygments_lexer": "ipython3",
   "version": "3.11.9"
  }
 },
 "nbformat": 4,
 "nbformat_minor": 5
}
